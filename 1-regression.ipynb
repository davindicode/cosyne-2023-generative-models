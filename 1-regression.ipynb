{
 "cells": [
  {
   "cell_type": "markdown",
   "metadata": {},
   "source": [
    "# Regression\n",
    "\n",
    "This notebook walks through loading and analysing a trained UCM. For large scale experiments, the model analysis code should be put into a Python script to keep the workflow clean and allow parallel processing of many different models.\n",
    "\n",
    "### Table of contents\n",
    "\n",
    "1. [**Linear regression**](#linear)\n",
    "2. [**Bayesian linear regression**](#blinear)\n",
    "3. [**Nonlinear basis function regression**](#basis)\n",
    "4. [**Gaussian process regression**](#gp)\n",
    "5. [**Some notes on non-Gaussian observation**](#notes)"
   ]
  },
  {
   "cell_type": "code",
   "execution_count": 3,
   "metadata": {},
   "outputs": [],
   "source": [
    "import numpy as np\n",
    "import scipy as sc\n",
    "\n",
    "import jax\n",
    "\n",
    "import matplotlib.pyplot as plt"
   ]
  },
  {
   "cell_type": "code",
   "execution_count": null,
   "metadata": {},
   "outputs": [],
   "source": []
  },
  {
   "cell_type": "markdown",
   "metadata": {},
   "source": [
    "<a id='linear'></a>\n",
    "## 1. Linear regression\n",
    "\n",
    "To model dependencies between two variables, say $x$ and $y$, one of the simplest but most widely used methods is linear regression. As the name suggests, it attempts to capture their relation using a linear function \n",
    "\n",
    "$$ f(x) = w \\cdot x + b $$\n",
    "\n",
    "For real world data, noise $\\epsilon_i$ is always present and \n",
    "\n",
    "$$ y_i = f(x_i) + \\epsilon_i $$\n",
    "\n",
    "for data points $i = 1, 2, \\ldots, N$. This setup is common in neuroscience when relating neural activity $y$ to experimental stimuli or behaviour $x$, with the noise accounting for neural variability."
   ]
  },
  {
   "cell_type": "code",
   "execution_count": 46,
   "metadata": {},
   "outputs": [],
   "source": [
    "def f_linear(x):\n",
    "    return 0.2 * x\n",
    "\n",
    "def f_nonlinear(x):\n",
    "    return 5. * np.sin(3 * x) + x**2"
   ]
  },
  {
   "cell_type": "code",
   "execution_count": 74,
   "metadata": {},
   "outputs": [],
   "source": [
    "# generate data\n",
    "rng = np.random.default_rng(12345)\n",
    "\n",
    "N = 100\n",
    "\n",
    "x = 6 * rng.uniform(size=(N,)) - 3"
   ]
  },
  {
   "cell_type": "code",
   "execution_count": 75,
   "metadata": {},
   "outputs": [],
   "source": [
    "eps = 0.1 * rng.normal(3, size=(N,))\n",
    "y_linear = f_linear(x) + eps\n",
    "\n",
    "eps = 1.0 * rng.normal(3, size=(N,))\n",
    "y_nonlinear = f_nonlinear(x) + eps"
   ]
  },
  {
   "cell_type": "code",
   "execution_count": 80,
   "metadata": {},
   "outputs": [
    {
     "data": {
      "image/png": "[encoded data removed]",
      "text/plain": [
       "<Figure size 576x288 with 2 Axes>"
      ]
     },
     "metadata": {
      "needs_background": "light"
     },
     "output_type": "display_data"
    }
   ],
   "source": [
    "fig, axes = plt.subplots(1, 2, figsize=(8, 4))\n",
    "\n",
    "axes[0].set_title('linear data')\n",
    "axes[0].scatter(x, y_linear)\n",
    "\n",
    "axes[1].set_title('nonlinear data')\n",
    "axes[1].scatter(x, y_nonlinear)\n",
    "\n",
    "plt.show()"
   ]
  },
  {
   "cell_type": "code",
   "execution_count": null,
   "metadata": {},
   "outputs": [],
   "source": []
  },
  {
   "cell_type": "code",
   "execution_count": null,
   "metadata": {},
   "outputs": [],
   "source": []
  },
  {
   "cell_type": "markdown",
   "metadata": {},
   "source": [
    "To select the parameters $w$ and $b$ that best describe the data, the common criterion is least squares. Here, we require such parameters to minimize the squared errors \n",
    "\n",
    "$$ L = \\frac{1}{N} \\sum_i \\| y_i - f(x_i) \\|^2 $$\n",
    "\n",
    "\n",
    "For linear regression, the least squares optimization problem $ \\min_{w,b} L $ has a closed form solution \n",
    "\n",
    "$$ \\min_{w,b} L = \\min_{w,b} \\frac{1}{N} \\sum_i \\| y_i - w \\cdot x_i - b \\|^2 $$\n",
    "\n",
    "$$ \\partial_w L = 0 \\Rightarrow \\sum_i x_i \\, ( y_i - w \\cdot x_i - b  ) = 0 $$\n",
    "\n",
    "$$ \\partial_b L = 0 \\Rightarrow \\sum_i ( y_i - w \\cdot x_i - b  ) = 0 $$\n",
    "\n",
    "Solving these equations, we obtain \n",
    "\n",
    "$$ w = \\frac{\\frac{1}{N} \\sum_i x_i y_i - \\bar{x} \\bar{y}}{\\text{Var}(x)} $$\n",
    "\n",
    "$$ b = $$"
   ]
  },
  {
   "cell_type": "code",
   "execution_count": null,
   "metadata": {},
   "outputs": [],
   "source": []
  },
  {
   "cell_type": "code",
   "execution_count": null,
   "metadata": {},
   "outputs": [],
   "source": []
  },
  {
   "cell_type": "markdown",
   "metadata": {},
   "source": [
    "For didactic purposes, we derived linear regression from scratch. As linear regression is a widely used tool, standard implementations are readily available in libraries like [scikit-learn](https://scikit-learn.org/stable/modules/generated/sklearn.linear_model.LinearRegression.html).\n",
    "\n",
    "\n",
    "<a id='blinear'></a>\n",
    "## 2. Bayesian linear regression\n",
    "\n",
    "Instead of the least squares perspective above, one can start thinking in terms of how the data was generated. Above, we did not specify the statistical properties of the observation noise $\\epsilon$. In a generative modeling approach, we have to be more explicit and state our assumptions about the data generation process. Conventionally, we choose $\\epsilon$ to be i.i.d. Gaussian noise \n",
    "\n",
    "$$ \\epsilon \\sim \\mathcal{N}(0, \\sigma^2) $$\n",
    "\n",
    "and we \n",
    "\n",
    "$$ w, b \\sim \\mathcal{N}(0, 1) $$\n",
    "\n",
    "\n",
    "Treating the unknown model parameters as random variables now defines a distribution over all possible models $p\\left( f(x) \\right)$, and we can visualize samples drawn from this distribution. Each sample is a different possible \"explanation\" of the data that our generative model can yield."
   ]
  },
  {
   "cell_type": "code",
   "execution_count": null,
   "metadata": {},
   "outputs": [],
   "source": []
  },
  {
   "cell_type": "markdown",
   "metadata": {},
   "source": [
    "We thus see that our generative model defines a distribution of what we expect the data to look like, before actually observing any data! This is called the prior distribution ins Bayesian inference, and observing data allows us to apply Bayes' rule \n",
    "\n",
    "$$ p(\\theta | y) = \\frac{p(y | \\theta) \\, p(\\theta)}{p(y)} $$\n",
    "\n",
    "to obtain our current belief of what the parameters $\\theta = (w, b)$ should be. Unlike with least squares, we have an entire distribution over the $\\theta$ expressing our uncertainty in estimating each parameter. This is called the posterior distribution.\n",
    "\n",
    "\n",
    "Applied to the linear regression model, we have \n",
    "\n",
    "$$ p(w|y) =  $$"
   ]
  },
  {
   "cell_type": "code",
   "execution_count": null,
   "metadata": {},
   "outputs": [],
   "source": []
  },
  {
   "cell_type": "markdown",
   "metadata": {},
   "source": [
    "As we observe more data, our posterior becomes more certain. This is intuitive as we obtain more and more information."
   ]
  },
  {
   "cell_type": "code",
   "execution_count": null,
   "metadata": {},
   "outputs": [],
   "source": []
  },
  {
   "cell_type": "markdown",
   "metadata": {},
   "source": [
    "The probabilistic aprpoach naturally assigns a number to how well the data $y$ is described, called the marginal likelihood \n",
    "\n",
    "$$ p(y) = \\int p(y|w,b) \\, p(w) \\, p(b) \\, \\mathrm{d}w \\, \\mathrm{d}b$$"
   ]
  },
  {
   "cell_type": "code",
   "execution_count": null,
   "metadata": {},
   "outputs": [],
   "source": []
  },
  {
   "cell_type": "markdown",
   "metadata": {},
   "source": [
    "<a id='inspect'></a>\n",
    "### Relation to least squares\n",
    "\n",
    "\n",
    "Least squares can be seen as equivalent to maximum likelihood in the probabilistic perspective, where we obtain point estimates of the parameters rather than full posterior distributions.\n",
    "\n",
    "Note the prior plays the role of a regularizer, and this is referred to as maximum a posteriori (MAP) estimation"
   ]
  },
  {
   "cell_type": "code",
   "execution_count": null,
   "metadata": {},
   "outputs": [],
   "source": []
  },
  {
   "cell_type": "markdown",
   "metadata": {},
   "source": [
    "<a id='basis'></a>\n",
    "## 3. Nonlinear basis function regression\n",
    "\n",
    "So far, our statistical models only account for linear relations between $x$ and $y$. To go beyond linear, we can introduce basis functions to expand the input space. For example, we can introduce a cubic polynomial \n",
    "\n",
    "$$ \\mathbf{\\phi}(x) = [1, x, x^2, x^3] $$\n",
    "\n",
    "and have the correponding vector of weights $\\mathbf{w}$ \n",
    "\n",
    "$$ f(x) = \\mathbf{w} \\cdot \\mathbf{\\phi}(x) $$\n",
    "\n",
    "Note that in the vector notation for linear regression, we absorb $w$ and $b$ into a single vector $\\mathbf{w}$."
   ]
  },
  {
   "cell_type": "code",
   "execution_count": null,
   "metadata": {},
   "outputs": [],
   "source": []
  },
  {
   "cell_type": "markdown",
   "metadata": {},
   "source": [
    "The marginal likelihood here "
   ]
  },
  {
   "cell_type": "code",
   "execution_count": null,
   "metadata": {},
   "outputs": [],
   "source": []
  },
  {
   "cell_type": "markdown",
   "metadata": {},
   "source": [
    "<a id='inspect'></a>\n",
    "### Beyond one-dimensional inputs\n",
    "\n",
    "The above assumes only one input dimension. Often, one wants to find relations between some observations and multi-dimensional inputs, e.g. 2D animal position $\\mathbf{x} = (x_1, x_2)$. A straightforward extension is to concatenate the expansion of the dimensions, i.e. \n",
    "\n",
    "$$\n",
    "\\phi(\\mathbf{x}) = (1, x_1, x_1^2, x_2, x_2^2 , \\ldots)\n",
    "$$\n",
    "\n",
    "but this will only yield functions that factorize across input dimensions $f(x_1, x_2) = f_1(x_1) f_2(x_2)$. To obtain more general functions $f(x_1, x_2)$, we need to introduce interactions in our basis expansion set \n",
    "\n",
    "$$\n",
    "\\phi(\\mathbf{x}) = (1, x_1, x_1^2, x_2, x_2^2 , x_1 x_2 , \\ldots)\n",
    "$$\n",
    "\n"
   ]
  },
  {
   "cell_type": "code",
   "execution_count": null,
   "metadata": {},
   "outputs": [],
   "source": []
  },
  {
   "cell_type": "markdown",
   "metadata": {},
   "source": [
    "<a id='gp'></a>\n",
    "## 4. Gaussian process regression\n",
    "\n",
    "Instead of specifying the explicit basis expansion, we ...\n",
    "This is known as the [kernel trick](https://en.wikipedia.org/wiki/Kernel_method#Mathematics:_the_kernel_trick) in the machine learning literature. In particular, by specifying the kernel directly we can implicitly work with infinite basis sets \n",
    "\n",
    "\n",
    "The squared exponential kernel or radial basis function \n",
    "\n",
    "$$ k(x, x') = \\sigma^2 e^{-\\|x - x'\\|^2 / 2} $$\n",
    "\n",
    "is an example of this "
   ]
  },
  {
   "cell_type": "code",
   "execution_count": null,
   "metadata": {},
   "outputs": [],
   "source": []
  },
  {
   "cell_type": "markdown",
   "metadata": {},
   "source": [
    "The added flexibility however does come with a cost. Unlike the above methods based on explicit fixed basis sets, we now have to specify the parameters of the kernel $\\theta = (\\sigma, l)$. These are called hyperparameters, as they are one level above the parameters $\\mathbf{w}$ that are implicit in this formulation. Generally, this optimization \n",
    "\n",
    "$$ \\min_{\\theta} p(\\mathbf{y}|\\theta) $$\n",
    "\n",
    "is not solvable in closed form, and one has to use iterative methods such as gradient descent. Luckily in JAX, this is easily done by computing gradients with ```grad```"
   ]
  },
  {
   "cell_type": "code",
   "execution_count": null,
   "metadata": {},
   "outputs": [],
   "source": []
  },
  {
   "cell_type": "markdown",
   "metadata": {},
   "source": [
    "The marginal likelihood here, comparing all methods..."
   ]
  },
  {
   "cell_type": "code",
   "execution_count": null,
   "metadata": {},
   "outputs": [],
   "source": []
  },
  {
   "cell_type": "markdown",
   "metadata": {},
   "source": [
    "### MAP estimation\n",
    "\n",
    "Analogous to the relation between regularized least squares and Bayesian linear regression, the point estimate version here is commonly known as [kernel ridge regression](https://web2.qatar.cmu.edu/~gdicaro/10315-Fall19/additional/welling-notes-on-kernel-ridge.pdf)."
   ]
  },
  {
   "cell_type": "markdown",
   "metadata": {},
   "source": [
    "<a id='notes'></a>\n",
    "## 5. Some notes on non-Gaussian observations\n",
    "\n",
    "So far, we have ... GLMs, in the machine learning this is termed non-conjugate models as closed form solutions are generally not available. One needsd to rely on iterative algorithms to estimate model parameters."
   ]
  },
  {
   "cell_type": "code",
   "execution_count": null,
   "metadata": {},
   "outputs": [],
   "source": []
  }
 ],
 "metadata": {
  "kernelspec": {
   "display_name": "python39",
   "language": "python",
   "name": "python39"
  },
  "language_info": {
   "codemirror_mode": {
    "name": "ipython",
    "version": 3
   },
   "file_extension": ".py",
   "mimetype": "text/x-python",
   "name": "python",
   "nbconvert_exporter": "python",
   "pygments_lexer": "ipython3",
   "version": "3.9.16"
  }
 },
 "nbformat": 4,
 "nbformat_minor": 4
}
